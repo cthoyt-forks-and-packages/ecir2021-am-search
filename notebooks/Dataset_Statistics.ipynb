{
 "cells": [
  {
   "cell_type": "markdown",
   "metadata": {},
   "source": [
    "# Dataset Statistics"
   ]
  },
  {
   "cell_type": "code",
   "execution_count": null,
   "metadata": {},
   "outputs": [],
   "source": [
    "from pandas import read_csv\n",
    "import matplotlib.pyplot as plt\n",
    "import pandas as pd \n",
    "\n",
    "from arclus.settings import PREP_ASSIGNMENTS, PREP_PREMISES, PREP_CLAIMS"
   ]
  },
  {
   "cell_type": "markdown",
   "metadata": {},
   "source": [
    "----------------------------\n",
    "## Fetch data \n",
    "----------------------------"
   ]
  },
  {
   "cell_type": "code",
   "execution_count": null,
   "metadata": {},
   "outputs": [],
   "source": [
    "premises_df = pd.read_csv(PREP_PREMISES, delimiter=\",\")\n",
    "claims_df = pd.read_csv(PREP_CLAIMS, delimiter=\",\")\n",
    "ass_df = pd.read_csv(PREP_ASSIGNMENTS, delimiter=\",\")"
   ]
  },
  {
   "cell_type": "markdown",
   "metadata": {},
   "source": [
    "#### Claims\n",
    "* add col for number of chars in claim_text\n",
    "* add col for number of words in claim_text"
   ]
  },
  {
   "cell_type": "code",
   "execution_count": null,
   "metadata": {},
   "outputs": [],
   "source": [
    "claims_df[\"claims_n_words\"] = claims_df['claim_text'].str.split().str.len()\n",
    "claims_df[\"claims_n_chars\"] = claims_df['claim_text'].str.len()\n",
    "claims_df"
   ]
  },
  {
   "cell_type": "markdown",
   "metadata": {},
   "source": [
    "#### Premises\n",
    "* add col for number of chars in premise_text\n",
    "* add col for number of words in premise_text"
   ]
  },
  {
   "cell_type": "code",
   "execution_count": null,
   "metadata": {},
   "outputs": [],
   "source": [
    "premises_df[\"premises_n_words\"] = premises_df['premise_text'].str.split().str.len()\n",
    "premises_df[\"premises_n_chars\"] = premises_df['premise_text'].str.len()\n",
    "premises_df"
   ]
  },
  {
   "cell_type": "markdown",
   "metadata": {},
   "source": [
    "#### Assignments"
   ]
  },
  {
   "cell_type": "code",
   "execution_count": null,
   "metadata": {},
   "outputs": [],
   "source": [
    "ass_df"
   ]
  },
  {
   "cell_type": "markdown",
   "metadata": {},
   "source": [
    "#### Extended Assignments"
   ]
  },
  {
   "cell_type": "code",
   "execution_count": null,
   "metadata": {},
   "outputs": [],
   "source": [
    "ass_extended = pd.merge(ass_df, premises_df, how='inner', on=\"premise_id\")\n",
    "ass_extended = pd.merge(ass_extended, claims_df, how='inner', on=\"claim_id\")\n",
    "ass_extended = ass_extended.drop(columns=['Unnamed: 0_x', 'Unnamed: 0_y', \"Unnamed: 0\"])\n",
    "ass_extended"
   ]
  },
  {
   "cell_type": "markdown",
   "metadata": {},
   "source": [
    "----------------------------\n",
    "## Statistics\n",
    "-----------------------------"
   ]
  },
  {
   "cell_type": "markdown",
   "metadata": {},
   "source": [
    "#### Assignments grouped by **claim_text**"
   ]
  },
  {
   "cell_type": "code",
   "execution_count": null,
   "metadata": {},
   "outputs": [],
   "source": [
    "gb_claim_text = ass_extended.groupby(['claim_text']).agg({'premises_n_chars': ['min', 'max','mean'], 'claims_n_chars': ['min', 'max','mean'], 'premise_id':'count'}).sort_values(('premise_id', 'count'), ascending=False)\n",
    "gb_claim_text"
   ]
  },
  {
   "cell_type": "markdown",
   "metadata": {},
   "source": [
    "#### Assignments grouped by **premise_text** "
   ]
  },
  {
   "cell_type": "code",
   "execution_count": null,
   "metadata": {},
   "outputs": [],
   "source": [
    "gb_premise_text = ass_extended.groupby(['premise_text']).agg({'premises_n_chars': ['min', 'max','mean'], 'claims_n_chars': ['min', 'max','mean'], 'claim_id':'count'}).sort_values(('claim_id', 'count'), ascending=False)\n",
    "gb_premise_text"
   ]
  },
  {
   "cell_type": "markdown",
   "metadata": {},
   "source": [
    "#### Dataset Statistics"
   ]
  },
  {
   "cell_type": "code",
   "execution_count": null,
   "metadata": {},
   "outputs": [],
   "source": [
    "statistics_df = pd.DataFrame(columns=[\"metric\",\"value\"])\n",
    "\n",
    "metrics =     [\n",
    "        [\"---------- claims -----------\", \"---------------------\"],\n",
    "        [\"# claims total\",len(claims_df)],\n",
    "        [\"# claims in assignments\",len(gb_claim_text)],\n",
    "        [\"AVG length of claims\", ass_extended[\"claims_n_chars\"].mean()],\n",
    "        [\"MAX length of claims\", ass_extended[\"claims_n_chars\"].max()],\n",
    "        [\"MIN length of claims\", ass_extended[\"claims_n_chars\"].min()],\n",
    "        [\"AVG # words per claims\", ass_extended[\"claims_n_words\"].mean()],\n",
    "        [\"MAX # words per claims\", ass_extended[\"claims_n_words\"].max()],\n",
    "        [\"MIN # words per claims\", ass_extended[\"claims_n_words\"].min()],\n",
    "        [\"---------- premises -----------\", \"---------------------\"],\n",
    "        [\"# premises total\",len(premises_df)],\n",
    "        [\"# premises in assignments\",len(gb_premise_text)],\n",
    "        [\"AVG length of premises\", ass_extended[\"premises_n_chars\"].mean()],\n",
    "        [\"Max length of premises\", ass_extended[\"premises_n_chars\"].max()],\n",
    "        [\"Min length of premises\", ass_extended[\"premises_n_chars\"].min()],\n",
    "        [\"AVG # words per premise\", ass_extended[\"premises_n_words\"].mean()],\n",
    "        [\"MAX # words per premise\", ass_extended[\"premises_n_words\"].max()],\n",
    "        [\"MIN # words per premise\", ass_extended[\"premises_n_words\"].min()],\n",
    "        [\"---------- assignments -----------\", \"---------------------\"],\n",
    "        [\"# assignments total\", len(ass_df)],\n",
    "        [\"AVG # premises per claim\", gb_claim_text.mean()[(\"premise_id\",\"count\")]],\n",
    "        [\"MAX # premises per claim\", gb_claim_text.max()[(\"premise_id\",\"count\")]],\n",
    "        [\"MIN # premises per claim\", gb_claim_text.min()[(\"premise_id\",\"count\")]],\n",
    "        [\"AVG # claims per premise\", gb_premise_text.mean()[(\"claim_id\",\"count\")]],\n",
    "        [\"MAX # claims per premise\", gb_premise_text.max()[(\"claim_id\",\"count\")]],\n",
    "        [\"MIN # claims per premise\", gb_premise_text.min()[(\"claim_id\",\"count\")]],\n",
    "    ]\n",
    "\n",
    "for metric, value in metrics:\n",
    "    statistics_df = statistics_df.append({\"metric\":metric, \"value\":value}, ignore_index=True)    \n",
    "    \n",
    "statistics_df\n"
   ]
  },
  {
   "cell_type": "markdown",
   "metadata": {},
   "source": [
    "----------------------------\n",
    "## Visualizations\n",
    "---------------------------"
   ]
  },
  {
   "cell_type": "markdown",
   "metadata": {},
   "source": [
    "#### Distribution of premises per claim"
   ]
  },
  {
   "cell_type": "code",
   "execution_count": null,
   "metadata": {},
   "outputs": [],
   "source": [
    "fig1, ax1 = plt.subplots(figsize=(40, 4))\n",
    "ax1.set_title('Distribution of premises per claims')\n",
    "plt.grid(\"both\")\n",
    "ax1.set_xlim([-1,3650])\n",
    "ax1.xaxis.set_major_locator(plt.MultipleLocator(250))\n",
    "ax1.boxplot(gb_claim_text[(\"premise_id\",\"count\")], vert=False)\n",
    "plt.show()\n",
    "\n",
    "fig1, ax1 = plt.subplots(figsize=(40, 4))\n",
    "ax1.set_title('Distribution of premises per claims')\n",
    "plt.grid(\"both\")\n",
    "ax1.set_xlim([-1,300])\n",
    "ax1.xaxis.set_major_locator(plt.MultipleLocator(20))\n",
    "ax1.boxplot(gb_claim_text[(\"premise_id\",\"count\")], vert=False)\n",
    "plt.show()"
   ]
  },
  {
   "cell_type": "markdown",
   "metadata": {},
   "source": [
    "* Most claims have between 5 and 20 premises\n",
    "* Claim with most premises has 3608 premises\n",
    "* Text of this claim: *'Should homework be banned?'*\n",
    "* Some premises are just Kauderwelsch\n",
    "* Some premises only contain Emojis"
   ]
  },
  {
   "cell_type": "markdown",
   "metadata": {},
   "source": [
    "#### Distribution of claims per premise"
   ]
  },
  {
   "cell_type": "code",
   "execution_count": null,
   "metadata": {},
   "outputs": [],
   "source": [
    "fig1, ax1 = plt.subplots(figsize=(40, 4))\n",
    "ax1.set_title('Distribution of claims per premises')\n",
    "plt.grid(\"both\")\n",
    "ax1.boxplot(gb_premise_text[(\"claim_id\",\"count\")], vert=False)\n",
    "plt.show()"
   ]
  },
  {
   "cell_type": "markdown",
   "metadata": {},
   "source": [
    "* Premise assigned to most claims is assigned to 81 claims\n",
    "* Text of this premise: *'No no no no no no no no no no no no no no no no no no no no no no no no no no no no no no no no no no no no no no no no no no no no no no no no no no'*"
   ]
  },
  {
   "cell_type": "markdown",
   "metadata": {},
   "source": [
    "#### Distribution of Claim Length"
   ]
  },
  {
   "cell_type": "code",
   "execution_count": null,
   "metadata": {},
   "outputs": [],
   "source": [
    "fig1, ax1 = plt.subplots(figsize=(40, 4))\n",
    "ax1.set_title('Claim length')\n",
    "plt.grid(\"both\")\n",
    "ax1.boxplot([claims_df[\"claims_n_chars\"],claims_df[\"claims_n_words\"]], vert=False, labels =['# of chars (c)','# of words (c)'])\n",
    "plt.show()"
   ]
  },
  {
   "cell_type": "markdown",
   "metadata": {},
   "source": [
    "* There are 38 claims that just have one word as text: "
   ]
  },
  {
   "cell_type": "code",
   "execution_count": null,
   "metadata": {},
   "outputs": [],
   "source": [
    "claims_df[claims_df[\"claims_n_words\"]==1]"
   ]
  },
  {
   "cell_type": "markdown",
   "metadata": {},
   "source": [
    "* The claim with the maximum number of words (49) is *'In May 2008, Barack Obama said he had been to fifty-seven states in the U.S. How many states are there in the US? Yes = there are 57 because the President has said so. No = there are only 50 states in the union, and the President was wrong.'*"
   ]
  },
  {
   "cell_type": "code",
   "execution_count": null,
   "metadata": {},
   "outputs": [],
   "source": [
    "claims_df[claims_df[\"claims_n_words\"]==49]"
   ]
  },
  {
   "cell_type": "markdown",
   "metadata": {},
   "source": [
    "#### Distribution of Premise Length"
   ]
  },
  {
   "cell_type": "code",
   "execution_count": null,
   "metadata": {},
   "outputs": [],
   "source": [
    "fig1, ax1 = plt.subplots(figsize=(40, 4))\n",
    "ax1.set_title('Premise length')\n",
    "plt.grid(\"both\")\n",
    "ax1.boxplot([premises_df[\"premises_n_chars\"],premises_df[\"premises_n_words\"]], vert=False, labels=['# of chars (p)','# of words (p)'])\n",
    "plt.show()"
   ]
  },
  {
   "cell_type": "markdown",
   "metadata": {},
   "source": [
    "* There are 308 premises that just have one word as text:"
   ]
  },
  {
   "cell_type": "code",
   "execution_count": null,
   "metadata": {},
   "outputs": [],
   "source": [
    "premises_df[premises_df[\"premises_n_words\"]==1]"
   ]
  },
  {
   "cell_type": "markdown",
   "metadata": {},
   "source": [
    "* The premise with the maximum number of words (6180) is *'I want to warn you in advance folks that ... like you and me, abdicated their responsibilities for most of their life. URL:'* (Too long to display)"
   ]
  },
  {
   "cell_type": "code",
   "execution_count": null,
   "metadata": {},
   "outputs": [],
   "source": [
    "premises_df[premises_df[\"premises_n_words\"]==6180]"
   ]
  },
  {
   "cell_type": "markdown",
   "metadata": {},
   "source": [
    "-----------------\n",
    "## Investigations\n",
    "-----------------\n",
    "\n",
    "### Claim with most premises\n",
    "* Sort assignments grouped by **claim_text**"
   ]
  },
  {
   "cell_type": "code",
   "execution_count": null,
   "metadata": {},
   "outputs": [],
   "source": [
    "ass_gb_c_text = ass_extended.groupby(['claim_text', 'claim_id'])\n",
    "ass_gb_c_text = ass_gb_c_text.agg(['mean', 'count'])[\"premise_id\"].sort_values([\"count\"], ascending=False)\n",
    "ass_gb_c_text"
   ]
  },
  {
   "cell_type": "markdown",
   "metadata": {},
   "source": [
    "* Display claim with most premises"
   ]
  },
  {
   "cell_type": "code",
   "execution_count": null,
   "metadata": {},
   "outputs": [],
   "source": [
    "claims_df[claims_df[\"claim_id\"]==ass_gb_c_text.index[0][1]]"
   ]
  },
  {
   "cell_type": "markdown",
   "metadata": {},
   "source": [
    "* Find premises relevant to claim with claim_id, which has the most premises"
   ]
  },
  {
   "cell_type": "code",
   "execution_count": null,
   "metadata": {},
   "outputs": [],
   "source": [
    "ids_p = ass_df[ass_df[\"claim_id\"]==ass_gb_c_text.index[0][1]][\"premise_id\"]\n",
    "rel_premises = premises_df[premises_df[\"premise_id\"].isin(ids_p)]\n",
    "rel_premises"
   ]
  },
  {
   "cell_type": "markdown",
   "metadata": {},
   "source": [
    "* Display all premises for that claim"
   ]
  },
  {
   "cell_type": "code",
   "execution_count": null,
   "metadata": {},
   "outputs": [],
   "source": [
    "from IPython.display import display, HTML\n",
    "display(HTML(rel_premises[[\"premise_text\"]].to_html()))"
   ]
  }
 ],
 "metadata": {
  "kernelspec": {
   "display_name": "Python 3",
   "language": "python",
   "name": "python3"
  },
  "language_info": {
   "codemirror_mode": {
    "name": "ipython",
    "version": 3
   },
   "file_extension": ".py",
   "mimetype": "text/x-python",
   "name": "python",
   "nbconvert_exporter": "python",
   "pygments_lexer": "ipython3",
   "version": "3.6.9"
  }
 },
 "nbformat": 4,
 "nbformat_minor": 4
}
